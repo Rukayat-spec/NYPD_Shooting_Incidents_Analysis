{
 "cells": [
  {
   "cell_type": "code",
   "execution_count": 352,
   "id": "3818de6a",
   "metadata": {},
   "outputs": [],
   "source": [
    "import pandas as pd\n",
    "import matplotlib.pyplot as plt\n",
    "import seaborn as sns\n",
    "import numpy as np\n",
    "\n",
    "\n"
   ]
  },
  {
   "cell_type": "code",
   "execution_count": 353,
   "id": "3c808b5d",
   "metadata": {},
   "outputs": [
    {
     "data": {
      "text/html": [
       "<div>\n",
       "<style scoped>\n",
       "    .dataframe tbody tr th:only-of-type {\n",
       "        vertical-align: middle;\n",
       "    }\n",
       "\n",
       "    .dataframe tbody tr th {\n",
       "        vertical-align: top;\n",
       "    }\n",
       "\n",
       "    .dataframe thead th {\n",
       "        text-align: right;\n",
       "    }\n",
       "</style>\n",
       "<table border=\"1\" class=\"dataframe\">\n",
       "  <thead>\n",
       "    <tr style=\"text-align: right;\">\n",
       "      <th></th>\n",
       "      <th>INCIDENT_KEY</th>\n",
       "      <th>OCCUR_DATE</th>\n",
       "      <th>OCCUR_TIME</th>\n",
       "      <th>BORO</th>\n",
       "      <th>LOC_OF_OCCUR_DESC</th>\n",
       "      <th>PRECINCT</th>\n",
       "      <th>JURISDICTION_CODE</th>\n",
       "      <th>LOC_CLASSFCTN_DESC</th>\n",
       "      <th>LOCATION_DESC</th>\n",
       "      <th>STATISTICAL_MURDER_FLAG</th>\n",
       "      <th>...</th>\n",
       "      <th>X_COORD_CD</th>\n",
       "      <th>Y_COORD_CD</th>\n",
       "      <th>Latitude</th>\n",
       "      <th>Longitude</th>\n",
       "      <th>New Georeferenced Column</th>\n",
       "      <th>Borough Boundaries</th>\n",
       "      <th>City Council Districts</th>\n",
       "      <th>Police Precincts</th>\n",
       "      <th>Zip Codes</th>\n",
       "      <th>Community Districts</th>\n",
       "    </tr>\n",
       "  </thead>\n",
       "  <tbody>\n",
       "    <tr>\n",
       "      <th>0</th>\n",
       "      <td>243566884</td>\n",
       "      <td>04/12/2022</td>\n",
       "      <td>22:08:00</td>\n",
       "      <td>BRONX</td>\n",
       "      <td>OUTSIDE</td>\n",
       "      <td>49</td>\n",
       "      <td>0</td>\n",
       "      <td>STREET</td>\n",
       "      <td>(null)</td>\n",
       "      <td>Y</td>\n",
       "      <td>...</td>\n",
       "      <td>1020669</td>\n",
       "      <td>255027</td>\n",
       "      <td>40.866590</td>\n",
       "      <td>-73.868328</td>\n",
       "      <td>POINT (-73.86832754 40.86658962)</td>\n",
       "      <td>5.0</td>\n",
       "      <td>22.0</td>\n",
       "      <td>32.0</td>\n",
       "      <td>11605.0</td>\n",
       "      <td>59.0</td>\n",
       "    </tr>\n",
       "    <tr>\n",
       "      <th>1</th>\n",
       "      <td>256484816</td>\n",
       "      <td>12/17/2022</td>\n",
       "      <td>04:08:00</td>\n",
       "      <td>BRONX</td>\n",
       "      <td>OUTSIDE</td>\n",
       "      <td>52</td>\n",
       "      <td>0</td>\n",
       "      <td>STREET</td>\n",
       "      <td>(null)</td>\n",
       "      <td>N</td>\n",
       "      <td>...</td>\n",
       "      <td>1008387</td>\n",
       "      <td>253290</td>\n",
       "      <td>40.861864</td>\n",
       "      <td>-73.912739</td>\n",
       "      <td>POINT (-73.91273918 40.86186421)</td>\n",
       "      <td>5.0</td>\n",
       "      <td>29.0</td>\n",
       "      <td>34.0</td>\n",
       "      <td>11606.0</td>\n",
       "      <td>24.0</td>\n",
       "    </tr>\n",
       "    <tr>\n",
       "      <th>2</th>\n",
       "      <td>250216145</td>\n",
       "      <td>08/27/2022</td>\n",
       "      <td>00:21:00</td>\n",
       "      <td>BRONX</td>\n",
       "      <td>OUTSIDE</td>\n",
       "      <td>44</td>\n",
       "      <td>0</td>\n",
       "      <td>VEHICLE</td>\n",
       "      <td>(null)</td>\n",
       "      <td>N</td>\n",
       "      <td>...</td>\n",
       "      <td>1008878</td>\n",
       "      <td>244480</td>\n",
       "      <td>40.837683</td>\n",
       "      <td>-73.910994</td>\n",
       "      <td>POINT (-73.910994 40.837683)</td>\n",
       "      <td>5.0</td>\n",
       "      <td>42.0</td>\n",
       "      <td>27.0</td>\n",
       "      <td>10935.0</td>\n",
       "      <td>50.0</td>\n",
       "    </tr>\n",
       "    <tr>\n",
       "      <th>3</th>\n",
       "      <td>239207164</td>\n",
       "      <td>01/15/2022</td>\n",
       "      <td>19:50:00</td>\n",
       "      <td>QUEENS</td>\n",
       "      <td>OUTSIDE</td>\n",
       "      <td>113</td>\n",
       "      <td>2</td>\n",
       "      <td>HOUSING</td>\n",
       "      <td>MULTI DWELL - PUBLIC HOUS</td>\n",
       "      <td>N</td>\n",
       "      <td>...</td>\n",
       "      <td>1044794</td>\n",
       "      <td>188802</td>\n",
       "      <td>40.684689</td>\n",
       "      <td>-73.781699</td>\n",
       "      <td>POINT (-73.781699 40.684689)</td>\n",
       "      <td>3.0</td>\n",
       "      <td>46.0</td>\n",
       "      <td>71.0</td>\n",
       "      <td>24669.0</td>\n",
       "      <td>41.0</td>\n",
       "    </tr>\n",
       "    <tr>\n",
       "      <th>4</th>\n",
       "      <td>248013313</td>\n",
       "      <td>07/14/2022</td>\n",
       "      <td>01:19:00</td>\n",
       "      <td>BROOKLYN</td>\n",
       "      <td>INSIDE</td>\n",
       "      <td>77</td>\n",
       "      <td>0</td>\n",
       "      <td>DWELLING</td>\n",
       "      <td>MULTI DWELL - APT BUILD</td>\n",
       "      <td>N</td>\n",
       "      <td>...</td>\n",
       "      <td>1002013</td>\n",
       "      <td>185752</td>\n",
       "      <td>40.676508</td>\n",
       "      <td>-73.935960</td>\n",
       "      <td>POINT (-73.93596 40.676508)</td>\n",
       "      <td>2.0</td>\n",
       "      <td>49.0</td>\n",
       "      <td>49.0</td>\n",
       "      <td>17615.0</td>\n",
       "      <td>16.0</td>\n",
       "    </tr>\n",
       "  </tbody>\n",
       "</table>\n",
       "<p>5 rows × 26 columns</p>\n",
       "</div>"
      ],
      "text/plain": [
       "   INCIDENT_KEY  OCCUR_DATE OCCUR_TIME      BORO LOC_OF_OCCUR_DESC  PRECINCT  \\\n",
       "0     243566884  04/12/2022   22:08:00     BRONX           OUTSIDE        49   \n",
       "1     256484816  12/17/2022   04:08:00     BRONX           OUTSIDE        52   \n",
       "2     250216145  08/27/2022   00:21:00     BRONX           OUTSIDE        44   \n",
       "3     239207164  01/15/2022   19:50:00    QUEENS           OUTSIDE       113   \n",
       "4     248013313  07/14/2022   01:19:00  BROOKLYN            INSIDE        77   \n",
       "\n",
       "   JURISDICTION_CODE LOC_CLASSFCTN_DESC              LOCATION_DESC  \\\n",
       "0                  0             STREET                     (null)   \n",
       "1                  0             STREET                     (null)   \n",
       "2                  0            VEHICLE                     (null)   \n",
       "3                  2            HOUSING  MULTI DWELL - PUBLIC HOUS   \n",
       "4                  0           DWELLING    MULTI DWELL - APT BUILD   \n",
       "\n",
       "  STATISTICAL_MURDER_FLAG  ... X_COORD_CD Y_COORD_CD   Latitude  Longitude  \\\n",
       "0                       Y  ...    1020669     255027  40.866590 -73.868328   \n",
       "1                       N  ...    1008387     253290  40.861864 -73.912739   \n",
       "2                       N  ...    1008878     244480  40.837683 -73.910994   \n",
       "3                       N  ...    1044794     188802  40.684689 -73.781699   \n",
       "4                       N  ...    1002013     185752  40.676508 -73.935960   \n",
       "\n",
       "           New Georeferenced Column Borough Boundaries  \\\n",
       "0  POINT (-73.86832754 40.86658962)                5.0   \n",
       "1  POINT (-73.91273918 40.86186421)                5.0   \n",
       "2      POINT (-73.910994 40.837683)                5.0   \n",
       "3      POINT (-73.781699 40.684689)                3.0   \n",
       "4       POINT (-73.93596 40.676508)                2.0   \n",
       "\n",
       "   City Council Districts  Police Precincts  Zip Codes  Community Districts  \n",
       "0                    22.0              32.0    11605.0                 59.0  \n",
       "1                    29.0              34.0    11606.0                 24.0  \n",
       "2                    42.0              27.0    10935.0                 50.0  \n",
       "3                    46.0              71.0    24669.0                 41.0  \n",
       "4                    49.0              49.0    17615.0                 16.0  \n",
       "\n",
       "[5 rows x 26 columns]"
      ]
     },
     "execution_count": 353,
     "metadata": {},
     "output_type": "execute_result"
    }
   ],
   "source": [
    "nypd_df = pd.read_csv('NYPD_Shooting_Incident_Data__Year_To_Date_.csv')\n",
    "nypd_df.head()"
   ]
  },
  {
   "cell_type": "code",
   "execution_count": 354,
   "id": "571fd078",
   "metadata": {},
   "outputs": [
    {
     "data": {
      "text/plain": [
       "(1716, 26)"
      ]
     },
     "execution_count": 354,
     "metadata": {},
     "output_type": "execute_result"
    }
   ],
   "source": [
    "nypd_df.shape"
   ]
  },
  {
   "cell_type": "code",
   "execution_count": 355,
   "id": "48d72612",
   "metadata": {},
   "outputs": [
    {
     "name": "stdout",
     "output_type": "stream",
     "text": [
      "<class 'pandas.core.frame.DataFrame'>\n",
      "RangeIndex: 1716 entries, 0 to 1715\n",
      "Data columns (total 26 columns):\n",
      " #   Column                    Non-Null Count  Dtype  \n",
      "---  ------                    --------------  -----  \n",
      " 0   INCIDENT_KEY              1716 non-null   int64  \n",
      " 1   OCCUR_DATE                1716 non-null   object \n",
      " 2   OCCUR_TIME                1716 non-null   object \n",
      " 3   BORO                      1716 non-null   object \n",
      " 4   LOC_OF_OCCUR_DESC         1716 non-null   object \n",
      " 5   PRECINCT                  1716 non-null   int64  \n",
      " 6   JURISDICTION_CODE         1716 non-null   int64  \n",
      " 7   LOC_CLASSFCTN_DESC        1716 non-null   object \n",
      " 8   LOCATION_DESC             1716 non-null   object \n",
      " 9   STATISTICAL_MURDER_FLAG   1716 non-null   object \n",
      " 10  PERP_AGE_GROUP            1716 non-null   object \n",
      " 11  PERP_SEX                  1716 non-null   object \n",
      " 12  PERP_RACE                 1716 non-null   object \n",
      " 13  VIC_AGE_GROUP             1716 non-null   object \n",
      " 14  VIC_SEX                   1716 non-null   object \n",
      " 15  VIC_RACE                  1716 non-null   object \n",
      " 16  X_COORD_CD                1716 non-null   int64  \n",
      " 17  Y_COORD_CD                1716 non-null   int64  \n",
      " 18  Latitude                  1706 non-null   float64\n",
      " 19  Longitude                 1706 non-null   float64\n",
      " 20  New Georeferenced Column  1706 non-null   object \n",
      " 21  Borough Boundaries        1706 non-null   float64\n",
      " 22  City Council Districts    1706 non-null   float64\n",
      " 23  Police Precincts          1706 non-null   float64\n",
      " 24  Zip Codes                 1702 non-null   float64\n",
      " 25  Community Districts       1706 non-null   float64\n",
      "dtypes: float64(7), int64(5), object(14)\n",
      "memory usage: 348.7+ KB\n"
     ]
    }
   ],
   "source": [
    "nypd_df.info()"
   ]
  },
  {
   "cell_type": "code",
   "execution_count": 356,
   "id": "68e82f21",
   "metadata": {},
   "outputs": [
    {
     "data": {
      "text/html": [
       "<div>\n",
       "<style scoped>\n",
       "    .dataframe tbody tr th:only-of-type {\n",
       "        vertical-align: middle;\n",
       "    }\n",
       "\n",
       "    .dataframe tbody tr th {\n",
       "        vertical-align: top;\n",
       "    }\n",
       "\n",
       "    .dataframe thead th {\n",
       "        text-align: right;\n",
       "    }\n",
       "</style>\n",
       "<table border=\"1\" class=\"dataframe\">\n",
       "  <thead>\n",
       "    <tr style=\"text-align: right;\">\n",
       "      <th></th>\n",
       "      <th>INCIDENT_KEY</th>\n",
       "      <th>PRECINCT</th>\n",
       "      <th>JURISDICTION_CODE</th>\n",
       "      <th>X_COORD_CD</th>\n",
       "      <th>Y_COORD_CD</th>\n",
       "      <th>Latitude</th>\n",
       "      <th>Longitude</th>\n",
       "      <th>Borough Boundaries</th>\n",
       "      <th>City Council Districts</th>\n",
       "      <th>Police Precincts</th>\n",
       "      <th>Zip Codes</th>\n",
       "      <th>Community Districts</th>\n",
       "    </tr>\n",
       "  </thead>\n",
       "  <tbody>\n",
       "    <tr>\n",
       "      <th>count</th>\n",
       "      <td>1.716000e+03</td>\n",
       "      <td>1716.000000</td>\n",
       "      <td>1716.000000</td>\n",
       "      <td>1.716000e+03</td>\n",
       "      <td>1716.000000</td>\n",
       "      <td>1706.000000</td>\n",
       "      <td>1706.000000</td>\n",
       "      <td>1706.000000</td>\n",
       "      <td>1706.000000</td>\n",
       "      <td>1706.000000</td>\n",
       "      <td>1702.000000</td>\n",
       "      <td>1706.000000</td>\n",
       "    </tr>\n",
       "    <tr>\n",
       "      <th>mean</th>\n",
       "      <td>2.473174e+08</td>\n",
       "      <td>62.143939</td>\n",
       "      <td>0.256993</td>\n",
       "      <td>1.009361e+06</td>\n",
       "      <td>211612.167249</td>\n",
       "      <td>40.747534</td>\n",
       "      <td>-73.909232</td>\n",
       "      <td>3.424971</td>\n",
       "      <td>30.020516</td>\n",
       "      <td>38.359906</td>\n",
       "      <td>14435.745006</td>\n",
       "      <td>37.158851</td>\n",
       "    </tr>\n",
       "    <tr>\n",
       "      <th>std</th>\n",
       "      <td>4.938591e+06</td>\n",
       "      <td>28.591294</td>\n",
       "      <td>0.662914</td>\n",
       "      <td>1.771978e+04</td>\n",
       "      <td>32124.441132</td>\n",
       "      <td>0.088154</td>\n",
       "      <td>0.063932</td>\n",
       "      <td>1.292636</td>\n",
       "      <td>13.342154</td>\n",
       "      <td>17.545266</td>\n",
       "      <td>3713.507109</td>\n",
       "      <td>20.265712</td>\n",
       "    </tr>\n",
       "    <tr>\n",
       "      <th>min</th>\n",
       "      <td>2.385312e+08</td>\n",
       "      <td>1.000000</td>\n",
       "      <td>0.000000</td>\n",
       "      <td>9.295100e+05</td>\n",
       "      <td>127539.000000</td>\n",
       "      <td>40.516572</td>\n",
       "      <td>-74.196874</td>\n",
       "      <td>1.000000</td>\n",
       "      <td>1.000000</td>\n",
       "      <td>1.000000</td>\n",
       "      <td>10099.000000</td>\n",
       "      <td>1.000000</td>\n",
       "    </tr>\n",
       "    <tr>\n",
       "      <th>25%</th>\n",
       "      <td>2.435664e+08</td>\n",
       "      <td>42.000000</td>\n",
       "      <td>0.000000</td>\n",
       "      <td>1.000149e+06</td>\n",
       "      <td>184263.000000</td>\n",
       "      <td>40.672298</td>\n",
       "      <td>-73.942282</td>\n",
       "      <td>2.000000</td>\n",
       "      <td>22.000000</td>\n",
       "      <td>25.000000</td>\n",
       "      <td>11275.000000</td>\n",
       "      <td>18.000000</td>\n",
       "    </tr>\n",
       "    <tr>\n",
       "      <th>50%</th>\n",
       "      <td>2.472748e+08</td>\n",
       "      <td>60.000000</td>\n",
       "      <td>0.000000</td>\n",
       "      <td>1.008230e+06</td>\n",
       "      <td>210147.000000</td>\n",
       "      <td>40.743483</td>\n",
       "      <td>-73.913502</td>\n",
       "      <td>3.000000</td>\n",
       "      <td>33.000000</td>\n",
       "      <td>35.000000</td>\n",
       "      <td>13095.000000</td>\n",
       "      <td>41.000000</td>\n",
       "    </tr>\n",
       "    <tr>\n",
       "      <th>75%</th>\n",
       "      <td>2.507528e+08</td>\n",
       "      <td>79.000000</td>\n",
       "      <td>0.000000</td>\n",
       "      <td>1.016861e+06</td>\n",
       "      <td>241412.000000</td>\n",
       "      <td>40.829286</td>\n",
       "      <td>-73.882155</td>\n",
       "      <td>5.000000</td>\n",
       "      <td>42.000000</td>\n",
       "      <td>51.000000</td>\n",
       "      <td>17215.000000</td>\n",
       "      <td>54.000000</td>\n",
       "    </tr>\n",
       "    <tr>\n",
       "      <th>max</th>\n",
       "      <td>2.611902e+08</td>\n",
       "      <td>123.000000</td>\n",
       "      <td>2.000000</td>\n",
       "      <td>1.059828e+06</td>\n",
       "      <td>269204.000000</td>\n",
       "      <td>40.905479</td>\n",
       "      <td>-73.727478</td>\n",
       "      <td>5.000000</td>\n",
       "      <td>51.000000</td>\n",
       "      <td>77.000000</td>\n",
       "      <td>24671.000000</td>\n",
       "      <td>71.000000</td>\n",
       "    </tr>\n",
       "  </tbody>\n",
       "</table>\n",
       "</div>"
      ],
      "text/plain": [
       "       INCIDENT_KEY     PRECINCT  JURISDICTION_CODE    X_COORD_CD  \\\n",
       "count  1.716000e+03  1716.000000        1716.000000  1.716000e+03   \n",
       "mean   2.473174e+08    62.143939           0.256993  1.009361e+06   \n",
       "std    4.938591e+06    28.591294           0.662914  1.771978e+04   \n",
       "min    2.385312e+08     1.000000           0.000000  9.295100e+05   \n",
       "25%    2.435664e+08    42.000000           0.000000  1.000149e+06   \n",
       "50%    2.472748e+08    60.000000           0.000000  1.008230e+06   \n",
       "75%    2.507528e+08    79.000000           0.000000  1.016861e+06   \n",
       "max    2.611902e+08   123.000000           2.000000  1.059828e+06   \n",
       "\n",
       "          Y_COORD_CD     Latitude    Longitude  Borough Boundaries  \\\n",
       "count    1716.000000  1706.000000  1706.000000         1706.000000   \n",
       "mean   211612.167249    40.747534   -73.909232            3.424971   \n",
       "std     32124.441132     0.088154     0.063932            1.292636   \n",
       "min    127539.000000    40.516572   -74.196874            1.000000   \n",
       "25%    184263.000000    40.672298   -73.942282            2.000000   \n",
       "50%    210147.000000    40.743483   -73.913502            3.000000   \n",
       "75%    241412.000000    40.829286   -73.882155            5.000000   \n",
       "max    269204.000000    40.905479   -73.727478            5.000000   \n",
       "\n",
       "       City Council Districts  Police Precincts     Zip Codes  \\\n",
       "count             1706.000000       1706.000000   1702.000000   \n",
       "mean                30.020516         38.359906  14435.745006   \n",
       "std                 13.342154         17.545266   3713.507109   \n",
       "min                  1.000000          1.000000  10099.000000   \n",
       "25%                 22.000000         25.000000  11275.000000   \n",
       "50%                 33.000000         35.000000  13095.000000   \n",
       "75%                 42.000000         51.000000  17215.000000   \n",
       "max                 51.000000         77.000000  24671.000000   \n",
       "\n",
       "       Community Districts  \n",
       "count          1706.000000  \n",
       "mean             37.158851  \n",
       "std              20.265712  \n",
       "min               1.000000  \n",
       "25%              18.000000  \n",
       "50%              41.000000  \n",
       "75%              54.000000  \n",
       "max              71.000000  "
      ]
     },
     "execution_count": 356,
     "metadata": {},
     "output_type": "execute_result"
    }
   ],
   "source": [
    "nypd_df.describe()"
   ]
  },
  {
   "cell_type": "code",
   "execution_count": 357,
   "id": "b942f911",
   "metadata": {},
   "outputs": [
    {
     "name": "stderr",
     "output_type": "stream",
     "text": [
      "C:\\Users\\ibrah\\AppData\\Local\\Temp\\ipykernel_16652\\2265882284.py:2: FutureWarning: Dropping of nuisance columns in DataFrame reductions (with 'numeric_only=None') is deprecated; in a future version this will raise TypeError.  Select only valid columns before calling the reduction.\n",
      "  study_data.mean()\n"
     ]
    },
    {
     "data": {
      "text/plain": [
       "INCIDENT_KEY        2.473174e+08\n",
       "Latitude            4.074753e+01\n",
       "Longitude          -7.390923e+01\n",
       "Police Precincts    3.835991e+01\n",
       "dtype: float64"
      ]
     },
     "execution_count": 357,
     "metadata": {},
     "output_type": "execute_result"
    }
   ],
   "source": [
    "study_data= nypd_df.iloc[:, [0,1,3,4,7,8,9,10,11,12,13,14,15,18,19,23]]\n",
    "study_data.mean()"
   ]
  },
  {
   "cell_type": "code",
   "execution_count": 363,
   "id": "bfab8c74",
   "metadata": {},
   "outputs": [
    {
     "name": "stdout",
     "output_type": "stream",
     "text": [
      "INCIDENT_KEY        4.937152e+06\n",
      "Latitude            8.812845e-02\n",
      "Longitude           6.391289e-02\n",
      "Police Precincts    1.754012e+01\n",
      "dtype: float64\n"
     ]
    },
    {
     "name": "stderr",
     "output_type": "stream",
     "text": [
      "C:\\Users\\ibrah\\anaconda3\\lib\\site-packages\\numpy\\core\\fromnumeric.py:3579: FutureWarning: Dropping of nuisance columns in DataFrame reductions (with 'numeric_only=None') is deprecated; in a future version this will raise TypeError.  Select only valid columns before calling the reduction.\n",
      "  return std(axis=axis, dtype=dtype, out=out, ddof=ddof, **kwargs)\n"
     ]
    }
   ],
   "source": [
    "print(np.std(study_data))"
   ]
  },
  {
   "cell_type": "code",
   "execution_count": 358,
   "id": "0d5c150e",
   "metadata": {},
   "outputs": [],
   "source": [
    "#df1.replace('(null)',0, inplace=True)\n",
    "#df1\n"
   ]
  },
  {
   "cell_type": "code",
   "execution_count": 359,
   "id": "41035681",
   "metadata": {},
   "outputs": [
    {
     "data": {
      "text/plain": [
       "(1716, 16)"
      ]
     },
     "execution_count": 359,
     "metadata": {},
     "output_type": "execute_result"
    }
   ],
   "source": [
    "study_data.shape"
   ]
  },
  {
   "cell_type": "code",
   "execution_count": 360,
   "id": "4e96d266",
   "metadata": {},
   "outputs": [
    {
     "data": {
      "text/html": [
       "<div>\n",
       "<style scoped>\n",
       "    .dataframe tbody tr th:only-of-type {\n",
       "        vertical-align: middle;\n",
       "    }\n",
       "\n",
       "    .dataframe tbody tr th {\n",
       "        vertical-align: top;\n",
       "    }\n",
       "\n",
       "    .dataframe thead th {\n",
       "        text-align: right;\n",
       "    }\n",
       "</style>\n",
       "<table border=\"1\" class=\"dataframe\">\n",
       "  <thead>\n",
       "    <tr style=\"text-align: right;\">\n",
       "      <th></th>\n",
       "      <th>INCIDENT_KEY</th>\n",
       "      <th>Latitude</th>\n",
       "      <th>Longitude</th>\n",
       "      <th>Police Precincts</th>\n",
       "    </tr>\n",
       "  </thead>\n",
       "  <tbody>\n",
       "    <tr>\n",
       "      <th>count</th>\n",
       "      <td>1.716000e+03</td>\n",
       "      <td>1706.000000</td>\n",
       "      <td>1706.000000</td>\n",
       "      <td>1706.000000</td>\n",
       "    </tr>\n",
       "    <tr>\n",
       "      <th>mean</th>\n",
       "      <td>2.473174e+08</td>\n",
       "      <td>40.747534</td>\n",
       "      <td>-73.909232</td>\n",
       "      <td>38.359906</td>\n",
       "    </tr>\n",
       "    <tr>\n",
       "      <th>std</th>\n",
       "      <td>4.938591e+06</td>\n",
       "      <td>0.088154</td>\n",
       "      <td>0.063932</td>\n",
       "      <td>17.545266</td>\n",
       "    </tr>\n",
       "    <tr>\n",
       "      <th>min</th>\n",
       "      <td>2.385312e+08</td>\n",
       "      <td>40.516572</td>\n",
       "      <td>-74.196874</td>\n",
       "      <td>1.000000</td>\n",
       "    </tr>\n",
       "    <tr>\n",
       "      <th>25%</th>\n",
       "      <td>2.435664e+08</td>\n",
       "      <td>40.672298</td>\n",
       "      <td>-73.942282</td>\n",
       "      <td>25.000000</td>\n",
       "    </tr>\n",
       "    <tr>\n",
       "      <th>50%</th>\n",
       "      <td>2.472748e+08</td>\n",
       "      <td>40.743483</td>\n",
       "      <td>-73.913502</td>\n",
       "      <td>35.000000</td>\n",
       "    </tr>\n",
       "    <tr>\n",
       "      <th>75%</th>\n",
       "      <td>2.507528e+08</td>\n",
       "      <td>40.829286</td>\n",
       "      <td>-73.882155</td>\n",
       "      <td>51.000000</td>\n",
       "    </tr>\n",
       "    <tr>\n",
       "      <th>max</th>\n",
       "      <td>2.611902e+08</td>\n",
       "      <td>40.905479</td>\n",
       "      <td>-73.727478</td>\n",
       "      <td>77.000000</td>\n",
       "    </tr>\n",
       "  </tbody>\n",
       "</table>\n",
       "</div>"
      ],
      "text/plain": [
       "       INCIDENT_KEY     Latitude    Longitude  Police Precincts\n",
       "count  1.716000e+03  1706.000000  1706.000000       1706.000000\n",
       "mean   2.473174e+08    40.747534   -73.909232         38.359906\n",
       "std    4.938591e+06     0.088154     0.063932         17.545266\n",
       "min    2.385312e+08    40.516572   -74.196874          1.000000\n",
       "25%    2.435664e+08    40.672298   -73.942282         25.000000\n",
       "50%    2.472748e+08    40.743483   -73.913502         35.000000\n",
       "75%    2.507528e+08    40.829286   -73.882155         51.000000\n",
       "max    2.611902e+08    40.905479   -73.727478         77.000000"
      ]
     },
     "execution_count": 360,
     "metadata": {},
     "output_type": "execute_result"
    }
   ],
   "source": [
    "study_data.describe()"
   ]
  },
  {
   "cell_type": "code",
   "execution_count": 361,
   "id": "5c5c3e23",
   "metadata": {},
   "outputs": [
    {
     "ename": "TypeError",
     "evalue": "cannot perform reduce with flexible type",
     "output_type": "error",
     "traceback": [
      "\u001b[1;31m---------------------------------------------------------------------------\u001b[0m",
      "\u001b[1;31mTypeError\u001b[0m                                 Traceback (most recent call last)",
      "\u001b[1;32m~\\AppData\\Local\\Temp\\ipykernel_16652\\3661387585.py\u001b[0m in \u001b[0;36m<module>\u001b[1;34m\u001b[0m\n\u001b[0;32m      1\u001b[0m \u001b[0mborough\u001b[0m \u001b[1;33m=\u001b[0m \u001b[0mstudy_data\u001b[0m\u001b[1;33m[\u001b[0m\u001b[1;34m'BORO'\u001b[0m\u001b[1;33m]\u001b[0m\u001b[1;33m\u001b[0m\u001b[1;33m\u001b[0m\u001b[0m\n\u001b[1;32m----> 2\u001b[1;33m \u001b[0mavg\u001b[0m \u001b[1;33m=\u001b[0m \u001b[0mnp\u001b[0m\u001b[1;33m.\u001b[0m\u001b[0mmean\u001b[0m\u001b[1;33m(\u001b[0m\u001b[1;34m'INCIDENT KEY'\u001b[0m\u001b[1;33m)\u001b[0m\u001b[1;33m\u001b[0m\u001b[1;33m\u001b[0m\u001b[0m\n\u001b[0m\u001b[0;32m      3\u001b[0m \u001b[1;33m\u001b[0m\u001b[0m\n",
      "\u001b[1;32m<__array_function__ internals>\u001b[0m in \u001b[0;36mmean\u001b[1;34m(*args, **kwargs)\u001b[0m\n",
      "\u001b[1;32m~\\anaconda3\\lib\\site-packages\\numpy\\core\\fromnumeric.py\u001b[0m in \u001b[0;36mmean\u001b[1;34m(a, axis, dtype, out, keepdims, where)\u001b[0m\n\u001b[0;32m   3438\u001b[0m             \u001b[1;32mreturn\u001b[0m \u001b[0mmean\u001b[0m\u001b[1;33m(\u001b[0m\u001b[0maxis\u001b[0m\u001b[1;33m=\u001b[0m\u001b[0maxis\u001b[0m\u001b[1;33m,\u001b[0m \u001b[0mdtype\u001b[0m\u001b[1;33m=\u001b[0m\u001b[0mdtype\u001b[0m\u001b[1;33m,\u001b[0m \u001b[0mout\u001b[0m\u001b[1;33m=\u001b[0m\u001b[0mout\u001b[0m\u001b[1;33m,\u001b[0m \u001b[1;33m**\u001b[0m\u001b[0mkwargs\u001b[0m\u001b[1;33m)\u001b[0m\u001b[1;33m\u001b[0m\u001b[1;33m\u001b[0m\u001b[0m\n\u001b[0;32m   3439\u001b[0m \u001b[1;33m\u001b[0m\u001b[0m\n\u001b[1;32m-> 3440\u001b[1;33m     return _methods._mean(a, axis=axis, dtype=dtype,\n\u001b[0m\u001b[0;32m   3441\u001b[0m                           out=out, **kwargs)\n\u001b[0;32m   3442\u001b[0m \u001b[1;33m\u001b[0m\u001b[0m\n",
      "\u001b[1;32m~\\anaconda3\\lib\\site-packages\\numpy\\core\\_methods.py\u001b[0m in \u001b[0;36m_mean\u001b[1;34m(a, axis, dtype, out, keepdims, where)\u001b[0m\n\u001b[0;32m    177\u001b[0m             \u001b[0mis_float16_result\u001b[0m \u001b[1;33m=\u001b[0m \u001b[1;32mTrue\u001b[0m\u001b[1;33m\u001b[0m\u001b[1;33m\u001b[0m\u001b[0m\n\u001b[0;32m    178\u001b[0m \u001b[1;33m\u001b[0m\u001b[0m\n\u001b[1;32m--> 179\u001b[1;33m     \u001b[0mret\u001b[0m \u001b[1;33m=\u001b[0m \u001b[0mumr_sum\u001b[0m\u001b[1;33m(\u001b[0m\u001b[0marr\u001b[0m\u001b[1;33m,\u001b[0m \u001b[0maxis\u001b[0m\u001b[1;33m,\u001b[0m \u001b[0mdtype\u001b[0m\u001b[1;33m,\u001b[0m \u001b[0mout\u001b[0m\u001b[1;33m,\u001b[0m \u001b[0mkeepdims\u001b[0m\u001b[1;33m,\u001b[0m \u001b[0mwhere\u001b[0m\u001b[1;33m=\u001b[0m\u001b[0mwhere\u001b[0m\u001b[1;33m)\u001b[0m\u001b[1;33m\u001b[0m\u001b[1;33m\u001b[0m\u001b[0m\n\u001b[0m\u001b[0;32m    180\u001b[0m     \u001b[1;32mif\u001b[0m \u001b[0misinstance\u001b[0m\u001b[1;33m(\u001b[0m\u001b[0mret\u001b[0m\u001b[1;33m,\u001b[0m \u001b[0mmu\u001b[0m\u001b[1;33m.\u001b[0m\u001b[0mndarray\u001b[0m\u001b[1;33m)\u001b[0m\u001b[1;33m:\u001b[0m\u001b[1;33m\u001b[0m\u001b[1;33m\u001b[0m\u001b[0m\n\u001b[0;32m    181\u001b[0m         ret = um.true_divide(\n",
      "\u001b[1;31mTypeError\u001b[0m: cannot perform reduce with flexible type"
     ]
    }
   ],
   "source": [
    "borough = study_data['BORO']\n",
    "avg = np.mean('INCIDENT KEY')\n",
    "\n"
   ]
  },
  {
   "cell_type": "code",
   "execution_count": null,
   "id": "0d1b4b29",
   "metadata": {},
   "outputs": [],
   "source": [
    "study_data['BORO'].hist(bins=5, edgecolor= 'black')\n",
    "plt.xlabel('Borough')\n",
    "plt.ylabel('Number of Shooting Incidents')\n",
    "plt.title('NYPD Shooting Incidents by Borough')\n",
    "plt.show()\n",
    "\n"
   ]
  },
  {
   "cell_type": "code",
   "execution_count": null,
   "id": "50a17fcf",
   "metadata": {},
   "outputs": [],
   "source": [
    "# Convert OCCUR_DATE column to datetime type\n",
    "df1['OCCUR_DATE'] = pd.to_datetime(df1['OCCUR_DATE'])\n",
    "\n",
    "# Extract the year from OCCUR_DATE column\n",
    "df1['YEAR'] = df1['OCCUR_DATE'].dt.year\n",
    "df1['YEAR']"
   ]
  },
  {
   "cell_type": "code",
   "execution_count": null,
   "id": "95ec3311",
   "metadata": {},
   "outputs": [],
   "source": [
    "df1['MONTH'] = df1['OCCUR_DATE'].dt.month\n",
    "df1_monthly_sorted = df1.sort_values('MONTH')\n",
    "df1_monthly_sorted "
   ]
  },
  {
   "cell_type": "code",
   "execution_count": null,
   "id": "38af457c",
   "metadata": {},
   "outputs": [],
   "source": [
    "months_dict = {1:\"January\", 2:\"February\", 3:\"March\", 4:\"April\", 5:\"May\", 6:\"June\", \n",
    "               7:\"July\", 8:\"August\", 9:\"September\", 10:\"October\", 11:\"November\", 12:\"December\"}"
   ]
  },
  {
   "cell_type": "code",
   "execution_count": null,
   "id": "811b25b4",
   "metadata": {},
   "outputs": [],
   "source": [
    "# Group the dataframe by month and return the count of incidents per month\n",
    "monthly_incident_count = df1_monthly_sorted.groupby('MONTH')['INCIDENT_KEY'].count().rename(months_dict)\n",
    "\n",
    "print(monthly_inci_count)"
   ]
  },
  {
   "cell_type": "code",
   "execution_count": null,
   "id": "7bc3081e",
   "metadata": {},
   "outputs": [],
   "source": [
    "#colors= ['r','b','g','y','orange','purple','r','b','g','y']\n",
    "monthly_inci_count.plot(kind='bar')\n",
    "plt.style.use('ggplot')\n",
    "plt.xlabel('Month')\n",
    "plt.ylabel('Number of shooting incidents')\n",
    "plt.title('SHOOTING INCIDENTS IN NYC BY MONTH IN 2022', fontsize = 13)\n",
    "plt.show()"
   ]
  },
  {
   "cell_type": "code",
   "execution_count": null,
   "id": "83c7650b",
   "metadata": {},
   "outputs": [],
   "source": [
    "\"\"\"\n",
    "color=['r','b','g','y','orange','purple','r','b','g','y']\n",
    "fig, ax = plt.subplots()\n",
    "ax.bar(monthly_counts.index, monthly_counts.values, color=color)\n",
    "ax.set_xticks(monthly_counts.index)\n",
    "ax.set_xlabel('Month')\n",
    "ax.set_ylabel('Number of shooting incidents')\n",
    "ax.set_title('Shooting incidents in NYC by month')\n",
    "\"\"\""
   ]
  },
  {
   "cell_type": "code",
   "execution_count": null,
   "id": "6eac118a",
   "metadata": {},
   "outputs": [],
   "source": [
    "# Group the dataframe by year and month and return the count of incidents per month\n",
    "monthly_counts = df1.groupby([df1['OCCUR_DATE'].dt.year, df1['OCCUR_DATE'].dt.month])['INCIDENT_KEY'].count()\n",
    "monthly_counts.index = pd.to_datetime(monthly_counts.index.to_flat_index().map(lambda x: '{}/{}'.format(*x)))\n",
    "\n",
    "# Create a line chart of the monthly counts\n",
    "fig, ax = plt.subplots()\n",
    "ax.plot(monthly_counts.index, monthly_counts.values)\n",
    "ax.set_xlabel('Year')\n",
    "ax.set_ylabel('Number of shooting incidents')\n",
    "ax.set_title('Trend of shooting incidents in NYC over time')\n",
    "\n",
    "plt.show()"
   ]
  },
  {
   "cell_type": "code",
   "execution_count": null,
   "id": "504e8e57",
   "metadata": {},
   "outputs": [],
   "source": [
    "# percentage count of shooting incidents by borough\n",
    "borough_counts = df1.groupby('BORO')['INCIDENT_KEY'].count()\n",
    "borough_counts"
   ]
  },
  {
   "cell_type": "code",
   "execution_count": null,
   "id": "56b8b3d4",
   "metadata": {},
   "outputs": [],
   "source": [
    "borough_counts\n",
    "\n",
    "# Create a pie chart of the precinct counts\n",
    "fig, ax = plt.subplots()\n",
    "ax.pie(borough_counts.values, labels=borough_counts.index, autopct='%1.1f%%', startangle=90)\n",
    "ax.set_title('Distribution of shooting incidents in NYC by Borough')\n",
    "\n",
    "plt.show()"
   ]
  },
  {
   "cell_type": "code",
   "execution_count": null,
   "id": "a7bb8bc2",
   "metadata": {},
   "outputs": [],
   "source": [
    "# Filter the dataframe to only include July incidents\n",
    "july_incidents = df1[df1['OCCUR_DATE'].dt.month == 7]\n",
    "\n",
    "# Group the filtered dataframe by borough and return the count of incidents per borough\n",
    "july_count = july_incidents.groupby('LOC_CLASSFCTN_DESC')['INCIDENT_KEY'].count()\n",
    "#july_sorted= july_counts.sort_values()\n",
    "july_counts= july_count.reset_index().loc[:,['LOC_CLASSFCTN_DESC', 'INCIDENT_KEY']]\n",
    "july_counts\n",
    "july_incidents\n"
   ]
  },
  {
   "cell_type": "code",
   "execution_count": null,
   "id": "780243e1",
   "metadata": {},
   "outputs": [],
   "source": [
    "sns.barplot(x= july_counts['INCIDENT_KEY'], y = july_counts['LOC_CLASSFCTN_DESC'], data =july_counts,\n",
    "            order = july_counts.sort_values('INCIDENT_KEY', ascending = False).LOC_CLASSFCTN_DESC,orient='h')"
   ]
  },
  {
   "cell_type": "code",
   "execution_count": null,
   "id": "eb000e8a",
   "metadata": {},
   "outputs": [],
   "source": [
    "\n",
    "\n",
    "# Extract the data we're interested in\n",
    "lat, lon = df1['Latitude'], df1['Longitude']\n",
    "race, victims= df1['Police Precincts'], df1['VIC_RACE']\n",
    "\n",
    "\n",
    "# Scatter the points, using size and color but no label\n",
    "plt.figure(figsize=(5,4))\n",
    "plt.scatter(lon, lat, label=None,\n",
    "            c=np.log10(race), cmap='viridis',\n",
    "          linewidth=0, alpha=0.5)\n",
    "plt.axis('equal')\n",
    "plt.xlabel('longitude')\n",
    "plt.ylabel('latitude')\n",
    "plt.colorbar(label='log$_{10}$(race)')\n",
    "plt.clim(3, 7) # colour limits\n",
    "\n",
    "# Here we create the legend:\n",
    "# we'll plot empty lists with the desired size and label\n",
    "for area in [100, 300, 500]:\n",
    "    plt.scatter([], [], c='k', alpha=0.3, s=area,\n",
    "                label=str(area) + ' km$^2$')\n",
    "plt.legend(scatterpoints=1, frameon=False, \n",
    "           labelspacing=1, title='City Area')\n",
    "\n",
    "plt.title('California Cities: Area and Population');"
   ]
  },
  {
   "cell_type": "code",
   "execution_count": null,
   "id": "376b2ca8",
   "metadata": {},
   "outputs": [],
   "source": [
    "#july_incidents.loc[:,('PERP_SEX','PERP_RACE')].replace('(null)','UNIDENTIFIED', inplace=True)\n",
    "july_incidents[['PERP_SEX','PERP_RACE']] = july_incidents[['PERP_SEX','PERP_RACE']].replace('(null)','UNIDENTIFIED')\n",
    "july_incidents"
   ]
  },
  {
   "cell_type": "code",
   "execution_count": null,
   "id": "43c0c4ba",
   "metadata": {},
   "outputs": [],
   "source": [
    "#race_counts = july_incidents.groupby(['LOC_CLASSFCTN_DESC','PERP_RACE'])['INCIDENT_KEY'].count().reset_index()\n",
    "#race_counts\n"
   ]
  },
  {
   "cell_type": "code",
   "execution_count": null,
   "id": "3ee4dcee",
   "metadata": {},
   "outputs": [],
   "source": [
    "race_counts = july_incidents.groupby(['VIC_RACE','VIC_SEX']).size().reset_index(name='count')\n",
    "race_counts"
   ]
  },
  {
   "cell_type": "code",
   "execution_count": null,
   "id": "f66e7adf",
   "metadata": {},
   "outputs": [],
   "source": [
    "sns.barplot(x='VIC_RACE', y='count', hue='VIC_SEX', data =race_counts )\n",
    "plt.xticks(rotation=45)"
   ]
  },
  {
   "cell_type": "code",
   "execution_count": null,
   "id": "f46d73ba",
   "metadata": {},
   "outputs": [],
   "source": [
    "pivoted= race_counts.pivot(index= 'VIC_RACE', columns='VIC_SEX',values='count').reset_index()\n",
    "pivoted"
   ]
  },
  {
   "cell_type": "code",
   "execution_count": null,
   "id": "0f61896a",
   "metadata": {},
   "outputs": [],
   "source": [
    "pivoted = pivoted.fillna(0)\n",
    "pivoted"
   ]
  },
  {
   "cell_type": "code",
   "execution_count": null,
   "id": "437ffbb9",
   "metadata": {},
   "outputs": [],
   "source": [
    "sns.barplot(x='M', y= 'VIC_RACE', data= pivoted, color='blue', label= 'Male')\n",
    "sns.barplot(x='F', y= 'VIC_RACE', data= pivoted, color='red', label= 'Female')"
   ]
  },
  {
   "cell_type": "code",
   "execution_count": null,
   "id": "a4a1c747",
   "metadata": {},
   "outputs": [],
   "source": [
    "sns.barplot(x='VIC_RACE', y= 'M', data= pivoted, color='blue', label= 'Male', orient='v')\n",
    "sns.barplot(x='VIC_RACE', y= 'F', data= pivoted, color='red', label= 'Female', orient='v')\n",
    "plt.xticks(rotation=45)"
   ]
  },
  {
   "cell_type": "code",
   "execution_count": null,
   "id": "88d04338",
   "metadata": {},
   "outputs": [],
   "source": [
    "#july_race_counts = race_counts.groupby('VIC_SEX')['INCIDENT_KEY'].count().reset_index()\n",
    "#july_race_counts"
   ]
  },
  {
   "cell_type": "code",
   "execution_count": null,
   "id": "f4f23706",
   "metadata": {},
   "outputs": [],
   "source": [
    "plt.figure(figsize=(10, 8))\n",
    "sns.barplot(x='VIC_RACE', hue=[['F','M']], data=pivoted, orient='h')\n",
    "plt.xticks(rotation=45)"
   ]
  },
  {
   "cell_type": "code",
   "execution_count": null,
   "id": "1826b3d7",
   "metadata": {},
   "outputs": [],
   "source": [
    "race_count1 = july_incidents.groupby(['PERP_RACE','PERP_SEX'])['INCIDENT_KEY'].count().reset_index()\n",
    "race_count1"
   ]
  },
  {
   "cell_type": "code",
   "execution_count": null,
   "id": "1791b998",
   "metadata": {},
   "outputs": [],
   "source": [
    "plt.figure(figsize=(10, 8))\n",
    "sns.barplot(x='PERP_RACE', y='INCIDENT_KEY', hue='PERP_SEX', data=race_count1,\n",
    "            order=race_count1.sort_values('INCIDENT_KEY', ascending=False).PERP_RACE,orient='v')\n",
    "plt.xticks(rotation=45)\n",
    "\n"
   ]
  },
  {
   "cell_type": "code",
   "execution_count": null,
   "id": "f4d8ce66",
   "metadata": {},
   "outputs": [],
   "source": [
    "with sns.axes_style('white'):\n",
    "    g = sns.catplot(x='VIC_RACE', data = july_race_counts, aspect=4.0, kind='count',\n",
    "                    hue='VIC_SEX', height=3.5)\n",
    "    g.set_ylabels('Number of Planets Discovered')"
   ]
  },
  {
   "cell_type": "code",
   "execution_count": null,
   "id": "4cd8fddd",
   "metadata": {},
   "outputs": [],
   "source": [
    "sns.boxplot(x='INCIDENT_KEY', y='LOC_CLASSFCTN_DESC', hue='PERP_RACE', data=july_race_counts,\n",
    "            order=july_race_counts.sort_values('INCIDENT_KEY', ascending=False).LOC_CLASSFCTN_DESC, orient='h')"
   ]
  },
  {
   "cell_type": "code",
   "execution_count": null,
   "id": "69790d89",
   "metadata": {},
   "outputs": [],
   "source": [
    "sns.barplot(x= race_counts['INCIDENT_KEY'], y = race_counts['PERP_RACE'], data =race_counts,\n",
    "            order = race_counts.sort_values('INCIDENT_KEY', ascending = False).PERP_RACE, orient='h')"
   ]
  },
  {
   "cell_type": "code",
   "execution_count": null,
   "id": "919021fb",
   "metadata": {},
   "outputs": [],
   "source": [
    "# Create a bar chart of the July counts\n",
    "fig, ax = plt.subplots()\n",
    "ax.barh(july_counts.index,july_counts.values)\n",
    "ax.set_xticklabels(july_counts.index, rotation=45)\n",
    "ax.set_xlabel('Borough')\n",
    "ax.set_ylabel('Number of shooting incidents')\n",
    "ax.set_title('Shooting incidents in NYC in July by borough')"
   ]
  },
  {
   "cell_type": "code",
   "execution_count": null,
   "id": "a5deafa5",
   "metadata": {},
   "outputs": [],
   "source": []
  },
  {
   "cell_type": "code",
   "execution_count": null,
   "id": "0bafb255",
   "metadata": {},
   "outputs": [],
   "source": []
  },
  {
   "cell_type": "code",
   "execution_count": null,
   "id": "1f555173",
   "metadata": {},
   "outputs": [],
   "source": []
  }
 ],
 "metadata": {
  "kernelspec": {
   "display_name": "Python 3 (ipykernel)",
   "language": "python",
   "name": "python3"
  },
  "language_info": {
   "codemirror_mode": {
    "name": "ipython",
    "version": 3
   },
   "file_extension": ".py",
   "mimetype": "text/x-python",
   "name": "python",
   "nbconvert_exporter": "python",
   "pygments_lexer": "ipython3",
   "version": "3.9.13"
  }
 },
 "nbformat": 4,
 "nbformat_minor": 5
}
